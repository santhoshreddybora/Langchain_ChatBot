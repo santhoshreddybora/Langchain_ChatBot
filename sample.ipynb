{
 "cells": [
  {
   "cell_type": "code",
   "execution_count": 1,
   "metadata": {},
   "outputs": [],
   "source": [
    "from langchain_groq import ChatGroq\n",
    "from langchain_core.prompts import ChatPromptTemplate\n",
    "from langchain_core.output_parsers import StrOutputParser\n",
    "from langchain_openai import OpenAIEmbeddings\n",
    "import streamlit as st\n",
    "import os\n",
    "from langchain.text_splitter import RecursiveCharacterTextSplitter\n",
    "from langchain.chains.combine_documents import create_stuff_documents_chain\n",
    "from langchain.chains.retrieval import create_retrieval_chain\n",
    "from langchain_community.vectorstores import FAISS\n",
    "from langchain_community.document_loaders import PyPDFDirectoryLoader"
   ]
  },
  {
   "cell_type": "code",
   "execution_count": 12,
   "metadata": {},
   "outputs": [],
   "source": [
    "from dotenv import load_dotenv\n",
    "\n",
    "load_dotenv()\n",
    "\n",
    "os.environ['OPENAI_API_KEY']=os.getenv('OPENAI_API_KEY')\n",
    "groq_api_key=os.getenv('GROQ_API_KEY')\n",
    "st.title(\"chat with llama3 demo\")\n",
    "\n",
    "llm=ChatGroq(groq_api_key=groq_api_key,model=\"Llama3-8b-8192\")\n",
    "\n",
    "prompt=ChatPromptTemplate.from_template(\n",
    "\"\"\"\n",
    "Answer the questions based on the provided context only.\n",
    "Please provide the most accurate response based on the question\n",
    "<context>\n",
    "{context}\n",
    "<context>\n",
    "Questions:{input}\n",
    "\n",
    "\"\"\"\n",
    ")"
   ]
  },
  {
   "cell_type": "code",
   "execution_count": 13,
   "metadata": {},
   "outputs": [],
   "source": [
    "embeddings=OpenAIEmbeddings()\n",
    "loader=PyPDFDirectoryLoader(\"./data\")\n",
    "docs=loader.load()\n",
    "text_splitter=RecursiveCharacterTextSplitter(chunk_size=1000,chunk_overlap=100)\n",
    "documents=text_splitter.split_documents(docs[:20])\n",
    "vector_store=FAISS.from_documents(documents=documents,embedding=embeddings)"
   ]
  },
  {
   "cell_type": "code",
   "execution_count": 14,
   "metadata": {},
   "outputs": [],
   "source": [
    "retriever=vector_store.as_retriever()"
   ]
  },
  {
   "cell_type": "code",
   "execution_count": 20,
   "metadata": {},
   "outputs": [],
   "source": [
    "document_chain=create_stuff_documents_chain(llm,prompt)\n",
    "retriever=vector_store.as_retriever()\n",
    "retrieval_chain=create_retrieval_chain(retriever,document_chain)\n",
    "response=retrieval_chain.invoke({'input':\"give me some lines about direct procurment by purchase committe\"})"
   ]
  },
  {
   "cell_type": "code",
   "execution_count": 21,
   "metadata": {},
   "outputs": [
    {
     "data": {
      "text/plain": [
       "'Based on the provided context, here are some lines about direct procurement by purchase committee:\\n\\n* Direct procurement by purchase committee is a process where the procurement officer or the purchase committee directly procures goods, consultancy or other services from the supplier without inviting tenders or quotations from multiple suppliers.\\n\\nPlease note that the provided context is limited to the given text and it may not provide the complete or detailed information about the direct procurement process.'"
      ]
     },
     "execution_count": 21,
     "metadata": {},
     "output_type": "execute_result"
    }
   ],
   "source": [
    "response['answer']"
   ]
  },
  {
   "cell_type": "code",
   "execution_count": 27,
   "metadata": {},
   "outputs": [
    {
     "data": {
      "text/plain": [
       "{'input': 'give me some lines about direct procurment by purchase committe',\n",
       " 'context': [Document(page_content='6/5/24, 9:21 AM ORGI Manual for Procurement of Goods, Consultancy & Other Services\\nhttps://censusindia.gov.in/ebook/Procurement/mobile/index.html#p=24 20/308', metadata={'source': 'data\\\\census.pdf', 'page': 19}),\n",
       "  Document(page_content='6/5/24, 9:21 AM ORGI Manual for Procurement of Goods, Consultancy & Other Services\\nhttps://censusindia.gov.in/ebook/Procurement/mobile/index.html#p=24 15/308', metadata={'source': 'data\\\\census.pdf', 'page': 14}),\n",
       "  Document(page_content='6/5/24, 9:21 AM ORGI Manual for Procurement of Goods, Consultancy & Other Services\\nhttps://censusindia.gov.in/ebook/Procurement/mobile/index.html#p=24 13/308', metadata={'source': 'data\\\\census.pdf', 'page': 12}),\n",
       "  Document(page_content='6/5/24, 9:21 AM ORGI Manual for Procurement of Goods, Consultancy & Other Services\\nhttps://censusindia.gov.in/ebook/Procurement/mobile/index.html#p=24 14/308', metadata={'source': 'data\\\\census.pdf', 'page': 13})],\n",
       " 'answer': 'Based on the provided context, here are some lines about direct procurement by purchase committee:\\n\\n* Direct procurement by purchase committee is a process where the procurement officer or the purchase committee directly procures goods, consultancy or other services from the supplier without inviting tenders or quotations from multiple suppliers.\\n\\nPlease note that the provided context is limited to the given text and it may not provide the complete or detailed information about the direct procurement process.'}"
      ]
     },
     "execution_count": 27,
     "metadata": {},
     "output_type": "execute_result"
    }
   ],
   "source": [
    "response"
   ]
  },
  {
   "cell_type": "code",
   "execution_count": 30,
   "metadata": {},
   "outputs": [
    {
     "name": "stdout",
     "output_type": "stream",
     "text": [
      "PAGE NO: 19 Content is: 6/5/24, 9:21 AM ORGI Manual for Procurement of Goods, Consultancy & Other Services\n",
      "https://censusindia.gov.in/ebook/Procurement/mobile/index.html#p=24 20/308\n",
      "--------------------------------\n",
      "PAGE NO: 14 Content is: 6/5/24, 9:21 AM ORGI Manual for Procurement of Goods, Consultancy & Other Services\n",
      "https://censusindia.gov.in/ebook/Procurement/mobile/index.html#p=24 15/308\n",
      "--------------------------------\n",
      "PAGE NO: 12 Content is: 6/5/24, 9:21 AM ORGI Manual for Procurement of Goods, Consultancy & Other Services\n",
      "https://censusindia.gov.in/ebook/Procurement/mobile/index.html#p=24 13/308\n",
      "--------------------------------\n",
      "PAGE NO: 13 Content is: 6/5/24, 9:21 AM ORGI Manual for Procurement of Goods, Consultancy & Other Services\n",
      "https://censusindia.gov.in/ebook/Procurement/mobile/index.html#p=24 14/308\n",
      "--------------------------------\n"
     ]
    }
   ],
   "source": [
    "for i, doc in enumerate(response['context']):\n",
    "    print(\"PAGE NO:\",doc.metadata['page'],\"Content is:\",doc.page_content)\n",
    "    print(\"--------------------------------\")"
   ]
  }
 ],
 "metadata": {
  "kernelspec": {
   "display_name": "langchain",
   "language": "python",
   "name": "python3"
  },
  "language_info": {
   "codemirror_mode": {
    "name": "ipython",
    "version": 3
   },
   "file_extension": ".py",
   "mimetype": "text/x-python",
   "name": "python",
   "nbconvert_exporter": "python",
   "pygments_lexer": "ipython3",
   "version": "3.10.14"
  }
 },
 "nbformat": 4,
 "nbformat_minor": 2
}
